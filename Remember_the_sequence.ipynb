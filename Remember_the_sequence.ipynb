{
  "nbformat": 4,
  "nbformat_minor": 0,
  "metadata": {
    "colab": {
      "provenance": [],
      "collapsed_sections": [],
      "authorship_tag": "ABX9TyPimdZF5EAJMbpwO8UIv8gv",
      "include_colab_link": true
    },
    "kernelspec": {
      "name": "python3",
      "display_name": "Python 3"
    },
    "language_info": {
      "name": "python"
    }
  },
  "cells": [
    {
      "cell_type": "markdown",
      "metadata": {
        "id": "view-in-github",
        "colab_type": "text"
      },
      "source": [
        "<a href=\"https://colab.research.google.com/github/aryan1209/TEAM-COMPUTEKIT--QCG/blob/main/Remember_the_sequence.ipynb\" target=\"_parent\"><img src=\"https://colab.research.google.com/assets/colab-badge.svg\" alt=\"Open In Colab\"/></a>"
      ]
    },
    {
      "cell_type": "markdown",
      "source": [
        "# **Remember the Sequence**\n",
        "In this game we need to remember the sequence of the numbers corresponding to the spoken words and then input the resultant number.If the sequence matches the random number then you will win the game otherwise you lose.\n",
        "\n",
        "\n",
        "\n",
        "\n"
      ],
      "metadata": {
        "id": "ImpIpU_sxtoJ"
      }
    },
    {
      "cell_type": "code",
      "source": [
        "!pip install qiskit"
      ],
      "metadata": {
        "colab": {
          "base_uri": "https://localhost:8080/"
        },
        "id": "57dwAJHIG2oj",
        "outputId": "c9bf5829-134e-47c5-f1ac-8f848f593d2f"
      },
      "execution_count": null,
      "outputs": [
        {
          "output_type": "stream",
          "name": "stdout",
          "text": [
            "Looking in indexes: https://pypi.org/simple, https://us-python.pkg.dev/colab-wheels/public/simple/\n",
            "Collecting qiskit\n",
            "  Downloading qiskit-0.39.2.tar.gz (13 kB)\n",
            "Collecting qiskit-terra==0.22.2\n",
            "  Downloading qiskit_terra-0.22.2-cp37-cp37m-manylinux_2_17_x86_64.manylinux2014_x86_64.whl (4.8 MB)\n",
            "\u001b[K     |████████████████████████████████| 4.8 MB 5.3 MB/s \n",
            "\u001b[?25hCollecting qiskit-aer==0.11.1\n",
            "  Downloading qiskit_aer-0.11.1-cp37-cp37m-manylinux_2_17_x86_64.manylinux2014_x86_64.whl (19.2 MB)\n",
            "\u001b[K     |████████████████████████████████| 19.2 MB 49.4 MB/s \n",
            "\u001b[?25hCollecting qiskit-ibmq-provider==0.19.2\n",
            "  Downloading qiskit_ibmq_provider-0.19.2-py3-none-any.whl (240 kB)\n",
            "\u001b[K     |████████████████████████████████| 240 kB 37.8 MB/s \n",
            "\u001b[?25hRequirement already satisfied: numpy>=1.16.3 in /usr/local/lib/python3.7/dist-packages (from qiskit-aer==0.11.1->qiskit) (1.21.6)\n",
            "Requirement already satisfied: scipy>=1.0 in /usr/local/lib/python3.7/dist-packages (from qiskit-aer==0.11.1->qiskit) (1.7.3)\n",
            "Collecting websocket-client>=1.0.1\n",
            "  Downloading websocket_client-1.4.2-py3-none-any.whl (55 kB)\n",
            "\u001b[K     |████████████████████████████████| 55 kB 1.6 MB/s \n",
            "\u001b[?25hCollecting websockets>=10.0\n",
            "  Downloading websockets-10.4-cp37-cp37m-manylinux_2_5_x86_64.manylinux1_x86_64.manylinux_2_17_x86_64.manylinux2014_x86_64.whl (106 kB)\n",
            "\u001b[K     |████████████████████████████████| 106 kB 37.7 MB/s \n",
            "\u001b[?25hRequirement already satisfied: requests>=2.19 in /usr/local/lib/python3.7/dist-packages (from qiskit-ibmq-provider==0.19.2->qiskit) (2.23.0)\n",
            "Requirement already satisfied: urllib3>=1.21.1 in /usr/local/lib/python3.7/dist-packages (from qiskit-ibmq-provider==0.19.2->qiskit) (1.24.3)\n",
            "Collecting requests-ntlm>=1.1.0\n",
            "  Downloading requests_ntlm-1.1.0-py2.py3-none-any.whl (5.7 kB)\n",
            "Requirement already satisfied: python-dateutil>=2.8.0 in /usr/local/lib/python3.7/dist-packages (from qiskit-ibmq-provider==0.19.2->qiskit) (2.8.2)\n",
            "Collecting tweedledum<2.0,>=1.1\n",
            "  Downloading tweedledum-1.1.1-cp37-cp37m-manylinux_2_12_x86_64.manylinux2010_x86_64.whl (943 kB)\n",
            "\u001b[K     |████████████████████████████████| 943 kB 27.5 MB/s \n",
            "\u001b[?25hCollecting shared-memory38\n",
            "  Downloading shared_memory38-0.1.2-cp37-cp37m-manylinux_2_5_x86_64.manylinux1_x86_64.whl (25 kB)\n",
            "Collecting retworkx>=0.11.0\n",
            "  Downloading retworkx-0.12.0-py3-none-any.whl (10 kB)\n",
            "Requirement already satisfied: dill>=0.3 in /usr/local/lib/python3.7/dist-packages (from qiskit-terra==0.22.2->qiskit) (0.3.6)\n",
            "Collecting symengine>=0.9\n",
            "  Downloading symengine-0.9.2-cp37-cp37m-manylinux2010_x86_64.whl (37.5 MB)\n",
            "\u001b[K     |████████████████████████████████| 37.5 MB 1.4 MB/s \n",
            "\u001b[?25hRequirement already satisfied: typing-extensions in /usr/local/lib/python3.7/dist-packages (from qiskit-terra==0.22.2->qiskit) (4.1.1)\n",
            "Requirement already satisfied: psutil>=5 in /usr/local/lib/python3.7/dist-packages (from qiskit-terra==0.22.2->qiskit) (5.4.8)\n",
            "Requirement already satisfied: sympy>=1.3 in /usr/local/lib/python3.7/dist-packages (from qiskit-terra==0.22.2->qiskit) (1.7.1)\n",
            "Collecting stevedore>=3.0.0\n",
            "  Downloading stevedore-3.5.2-py3-none-any.whl (50 kB)\n",
            "\u001b[K     |████████████████████████████████| 50 kB 2.4 MB/s \n",
            "\u001b[?25hCollecting ply>=3.10\n",
            "  Downloading ply-3.11-py2.py3-none-any.whl (49 kB)\n",
            "\u001b[K     |████████████████████████████████| 49 kB 4.1 MB/s \n",
            "\u001b[?25hRequirement already satisfied: importlib-metadata<5.0 in /usr/local/lib/python3.7/dist-packages (from qiskit-terra==0.22.2->qiskit) (4.13.0)\n",
            "Requirement already satisfied: zipp>=0.5 in /usr/local/lib/python3.7/dist-packages (from importlib-metadata<5.0->qiskit-terra==0.22.2->qiskit) (3.10.0)\n",
            "Requirement already satisfied: six>=1.5 in /usr/local/lib/python3.7/dist-packages (from python-dateutil>=2.8.0->qiskit-ibmq-provider==0.19.2->qiskit) (1.15.0)\n",
            "Requirement already satisfied: idna<3,>=2.5 in /usr/local/lib/python3.7/dist-packages (from requests>=2.19->qiskit-ibmq-provider==0.19.2->qiskit) (2.10)\n",
            "Requirement already satisfied: chardet<4,>=3.0.2 in /usr/local/lib/python3.7/dist-packages (from requests>=2.19->qiskit-ibmq-provider==0.19.2->qiskit) (3.0.4)\n",
            "Requirement already satisfied: certifi>=2017.4.17 in /usr/local/lib/python3.7/dist-packages (from requests>=2.19->qiskit-ibmq-provider==0.19.2->qiskit) (2022.9.24)\n",
            "Collecting ntlm-auth>=1.0.2\n",
            "  Downloading ntlm_auth-1.5.0-py2.py3-none-any.whl (29 kB)\n",
            "Collecting cryptography>=1.3\n",
            "  Downloading cryptography-38.0.3-cp36-abi3-manylinux_2_24_x86_64.whl (4.1 MB)\n",
            "\u001b[K     |████████████████████████████████| 4.1 MB 28.6 MB/s \n",
            "\u001b[?25hRequirement already satisfied: cffi>=1.12 in /usr/local/lib/python3.7/dist-packages (from cryptography>=1.3->requests-ntlm>=1.1.0->qiskit-ibmq-provider==0.19.2->qiskit) (1.15.1)\n",
            "Requirement already satisfied: pycparser in /usr/local/lib/python3.7/dist-packages (from cffi>=1.12->cryptography>=1.3->requests-ntlm>=1.1.0->qiskit-ibmq-provider==0.19.2->qiskit) (2.21)\n",
            "Collecting rustworkx==0.12.0\n",
            "  Downloading rustworkx-0.12.0-cp37-cp37m-manylinux_2_17_x86_64.manylinux2014_x86_64.whl (1.9 MB)\n",
            "\u001b[K     |████████████████████████████████| 1.9 MB 30.4 MB/s \n",
            "\u001b[?25hCollecting pbr!=2.1.0,>=2.0.0\n",
            "  Downloading pbr-5.11.0-py2.py3-none-any.whl (112 kB)\n",
            "\u001b[K     |████████████████████████████████| 112 kB 20.7 MB/s \n",
            "\u001b[?25hRequirement already satisfied: mpmath>=0.19 in /usr/local/lib/python3.7/dist-packages (from sympy>=1.3->qiskit-terra==0.22.2->qiskit) (1.2.1)\n",
            "Building wheels for collected packages: qiskit\n",
            "  Building wheel for qiskit (setup.py) ... \u001b[?25l\u001b[?25hdone\n",
            "  Created wheel for qiskit: filename=qiskit-0.39.2-py3-none-any.whl size=12226 sha256=c42f7f22e1a5970d60f2d1bf8be929d5ac9c2a766864c9ee096e4890e05cbb6a\n",
            "  Stored in directory: /root/.cache/pip/wheels/30/dc/90/0ee55ccffd13c16db1abd4c43028f7c9cedb5576b190402190\n",
            "Successfully built qiskit\n",
            "Installing collected packages: rustworkx, pbr, tweedledum, symengine, stevedore, shared-memory38, retworkx, ply, ntlm-auth, cryptography, websockets, websocket-client, requests-ntlm, qiskit-terra, qiskit-ibmq-provider, qiskit-aer, qiskit\n",
            "Successfully installed cryptography-38.0.3 ntlm-auth-1.5.0 pbr-5.11.0 ply-3.11 qiskit-0.39.2 qiskit-aer-0.11.1 qiskit-ibmq-provider-0.19.2 qiskit-terra-0.22.2 requests-ntlm-1.1.0 retworkx-0.12.0 rustworkx-0.12.0 shared-memory38-0.1.2 stevedore-3.5.2 symengine-0.9.2 tweedledum-1.1.1 websocket-client-1.4.2 websockets-10.4\n"
          ]
        }
      ]
    },
    {
      "cell_type": "markdown",
      "source": [
        "# **Qiskit**\n",
        " Now we are using qiskit to create a quantum circuit which is designed in such a way that it can generate random numbers between 1 to 6.\n"
      ],
      "metadata": {
        "id": "V5P6UgUxzRv_"
      }
    },
    {
      "cell_type": "code",
      "source": [
        "from qiskit import QuantumRegister, ClassicalRegister, QuantumCircuit, execute\n",
        "import numpy as np\n",
        "cir=QuantumCircuit()"
      ],
      "metadata": {
        "id": "diYQKJUmERSK"
      },
      "execution_count": null,
      "outputs": []
    },
    {
      "cell_type": "code",
      "source": [
        "qr = QuantumRegister(3,'qr')\n",
        "cir.add_register(qr)\n",
        "cr = ClassicalRegister(3,'cr')\n",
        "cir.add_register(cr)\n",
        "cir.h(qr)\n",
        "cir.measure(qr,cr)\n",
        "cir.draw()"
      ],
      "metadata": {
        "colab": {
          "base_uri": "https://localhost:8080/",
          "height": 217
        },
        "id": "-ZSAjCwxH7s1",
        "outputId": "869c7a27-81fd-4f1f-bc02-37a3eddad871"
      },
      "execution_count": null,
      "outputs": [
        {
          "output_type": "execute_result",
          "data": {
            "text/plain": [
              "      ┌───┐┌─┐      \n",
              "qr_0: ┤ H ├┤M├──────\n",
              "      ├───┤└╥┘┌─┐   \n",
              "qr_1: ┤ H ├─╫─┤M├───\n",
              "      ├───┤ ║ └╥┘┌─┐\n",
              "qr_2: ┤ H ├─╫──╫─┤M├\n",
              "      └───┘ ║  ║ └╥┘\n",
              "cr_0: ══════╩══╬══╬═\n",
              "               ║  ║ \n",
              "cr_1: ═════════╩══╬═\n",
              "                  ║ \n",
              "cr_2: ════════════╩═\n",
              "                    "
            ],
            "text/html": [
              "<pre style=\"word-wrap: normal;white-space: pre;background: #fff0;line-height: 1.1;font-family: &quot;Courier New&quot;,Courier,monospace\">      ┌───┐┌─┐      \n",
              "qr_0: ┤ H ├┤M├──────\n",
              "      ├───┤└╥┘┌─┐   \n",
              "qr_1: ┤ H ├─╫─┤M├───\n",
              "      ├───┤ ║ └╥┘┌─┐\n",
              "qr_2: ┤ H ├─╫──╫─┤M├\n",
              "      └───┘ ║  ║ └╥┘\n",
              "cr_0: ══════╩══╬══╬═\n",
              "               ║  ║ \n",
              "cr_1: ═════════╩══╬═\n",
              "                  ║ \n",
              "cr_2: ════════════╩═\n",
              "                    </pre>"
            ]
          },
          "metadata": {},
          "execution_count": 3
        }
      ]
    },
    {
      "cell_type": "markdown",
      "source": [
        "# **Function to generate Random number**"
      ],
      "metadata": {
        "id": "ud1Mx1Ae0KR0"
      }
    },
    {
      "cell_type": "code",
      "source": [
        "from qiskit import Aer\n",
        "def num_generator():\n",
        " def random_n():\n",
        "  backend=Aer.get_backend('statevector_simulator')\n",
        "  job = execute(cir, backend, shots=1)\n",
        "  counts = job.result().get_counts(cir)\n",
        "  return int(list(counts.keys())[0],2)\n",
        " num=random_n()\n",
        " while num==0 or num==7 :\n",
        "  num=random_n()\n",
        " return num \n",
        " "
      ],
      "metadata": {
        "id": "VwiGzJnlJO8B"
      },
      "execution_count": null,
      "outputs": []
    },
    {
      "cell_type": "markdown",
      "source": [
        "Below is a code which takes input from the user for the length of the sequence the user needs to remember.\n",
        "Note greater the length the more difficult the game becomes.\n",
        "\n",
        "\n",
        "\n",
        "\n"
      ],
      "metadata": {
        "id": "dbNdDtLc0oxJ"
      }
    },
    {
      "cell_type": "code",
      "source": [
        "print('input no. of digits')\n",
        "n=int(input())\n",
        "random_array=[0]*n\n",
        "for i in range(n):\n",
        " random_array[i]=num_generator()"
      ],
      "metadata": {
        "colab": {
          "base_uri": "https://localhost:8080/"
        },
        "id": "1n6O7mBgHjHB",
        "outputId": "d05e1c3f-dd9b-4f8a-a33a-0632a022152f"
      },
      "execution_count": null,
      "outputs": [
        {
          "name": "stdout",
          "output_type": "stream",
          "text": [
            "input no. of digits\n",
            "7\n"
          ]
        }
      ]
    },
    {
      "cell_type": "markdown",
      "source": [
        "Below is the code to calculate the n (length of sequence) digit no. using the digits randomly generated using Qiskit.Now the number generated would be used afterwords for matching with the number entered by the user and thus deciding wether user won or lose the game."
      ],
      "metadata": {
        "id": "x1yc43Eq1RfZ"
      }
    },
    {
      "cell_type": "code",
      "source": [
        "k=-1\n",
        "number=0\n",
        "dummy=np.flip(random_array)\n",
        "for i in dummy:\n",
        " k=k+1\n",
        " number=number+i*(10**k)"
      ],
      "metadata": {
        "id": "D-kLH2J57DWp"
      },
      "execution_count": null,
      "outputs": []
    },
    {
      "cell_type": "markdown",
      "source": [
        "# **Generating Audio**"
      ],
      "metadata": {
        "id": "Ww8y90uS14ur"
      }
    },
    {
      "cell_type": "code",
      "source": [
        "!pip install pygame"
      ],
      "metadata": {
        "id": "SFQtdbDxHRJz",
        "colab": {
          "base_uri": "https://localhost:8080/"
        },
        "outputId": "815858fe-b00c-449a-e69c-352ce4686577"
      },
      "execution_count": null,
      "outputs": [
        {
          "output_type": "stream",
          "name": "stdout",
          "text": [
            "Looking in indexes: https://pypi.org/simple, https://us-python.pkg.dev/colab-wheels/public/simple/\n",
            "Collecting pygame\n",
            "  Downloading pygame-2.1.2-cp37-cp37m-manylinux_2_17_x86_64.manylinux2014_x86_64.whl (21.8 MB)\n",
            "\u001b[K     |████████████████████████████████| 21.8 MB 59.8 MB/s \n",
            "\u001b[?25hInstalling collected packages: pygame\n",
            "Successfully installed pygame-2.1.2\n"
          ]
        }
      ]
    },
    {
      "cell_type": "code",
      "source": [
        "!pip install gtts"
      ],
      "metadata": {
        "colab": {
          "base_uri": "https://localhost:8080/"
        },
        "id": "KSlcSnO9xQvz",
        "outputId": "cc016345-034e-4c51-b4ae-c39babaa4251"
      },
      "execution_count": null,
      "outputs": [
        {
          "output_type": "stream",
          "name": "stdout",
          "text": [
            "Looking in indexes: https://pypi.org/simple, https://us-python.pkg.dev/colab-wheels/public/simple/\n",
            "Collecting gtts\n",
            "  Downloading gTTS-2.2.4-py3-none-any.whl (26 kB)\n",
            "Requirement already satisfied: requests in /usr/local/lib/python3.7/dist-packages (from gtts) (2.23.0)\n",
            "Requirement already satisfied: click in /usr/local/lib/python3.7/dist-packages (from gtts) (7.1.2)\n",
            "Requirement already satisfied: six in /usr/local/lib/python3.7/dist-packages (from gtts) (1.15.0)\n",
            "Requirement already satisfied: certifi>=2017.4.17 in /usr/local/lib/python3.7/dist-packages (from requests->gtts) (2022.9.24)\n",
            "Requirement already satisfied: urllib3!=1.25.0,!=1.25.1,<1.26,>=1.21.1 in /usr/local/lib/python3.7/dist-packages (from requests->gtts) (1.24.3)\n",
            "Requirement already satisfied: idna<3,>=2.5 in /usr/local/lib/python3.7/dist-packages (from requests->gtts) (2.10)\n",
            "Requirement already satisfied: chardet<4,>=3.0.2 in /usr/local/lib/python3.7/dist-packages (from requests->gtts) (3.0.4)\n",
            "Installing collected packages: gtts\n",
            "Successfully installed gtts-2.2.4\n"
          ]
        }
      ]
    },
    {
      "cell_type": "markdown",
      "source": [
        "Now in the code below we are generating the sound.\n",
        "At first all the 6 sounds will be played one by one and their corresponding number will be shown.User need to remember which sound corresponds to which number."
      ],
      "metadata": {
        "id": "4ok_nhaR2G3T"
      }
    },
    {
      "cell_type": "code",
      "source": [
        "from gtts import gTTS\n",
        "from IPython.display import Audio\n",
        "from IPython.display import display\n",
        "import numpy as np\n",
        "from numpy import random\n",
        "import time\n",
        "import datetime\n",
        "list1 = np.array([\"none\",\"Sorted\",\"facchhey\",\"machh axe\",\"ghissu\",\"Chaappo\",\"Dass e\"])\n",
        "p=0\n",
        "for voice in list1 :\n",
        "      if voice==\"none\":\n",
        "        continue\n",
        "      p=p+1 \n",
        "      tts = gTTS(\"{}\".format(voice)) \n",
        "      tts.save('1.wav')\n",
        "      sound_file = '1.wav'\n",
        "      wn = Audio(sound_file, autoplay=True) ##\n",
        "      print(p)\n",
        "      display(wn)##\"\"\"\n",
        "      time.sleep(2)"
      ],
      "metadata": {
        "colab": {
          "base_uri": "https://localhost:8080/",
          "height": 472
        },
        "id": "wvTB4DiV4Zl8",
        "outputId": "cfb518d2-4b31-46ff-896a-10979635a8db"
      },
      "execution_count": null,
      "outputs": [
        {
          "output_type": "stream",
          "name": "stdout",
          "text": [
            "1\n"
          ]
        },
        {
          "output_type": "display_data",
          "data": {
            "text/plain": [
              "<IPython.lib.display.Audio object>"
            ],
            "text/html": [
              "\n",
              "                <audio  controls=\"controls\" autoplay=\"autoplay\">\n",
              "                    <source src=\"data:audio/x-wav;base64,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\" type=\"audio/x-wav\" />\n",
              "                    Your browser does not support the audio element.\n",
              "                </audio>\n",
              "              "
            ]
          },
          "metadata": {}
        },
        {
          "output_type": "stream",
          "name": "stdout",
          "text": [
            "2\n"
          ]
        },
        {
          "output_type": "display_data",
          "data": {
            "text/plain": [
              "<IPython.lib.display.Audio object>"
            ],
            "text/html": [
              "\n",
              "                <audio  controls=\"controls\" autoplay=\"autoplay\">\n",
              "                    <source src=\"data:audio/x-wav;base64,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\" type=\"audio/x-wav\" />\n",
              "                    Your browser does not support the audio element.\n",
              "                </audio>\n",
              "              "
            ]
          },
          "metadata": {}
        },
        {
          "output_type": "stream",
          "name": "stdout",
          "text": [
            "3\n"
          ]
        },
        {
          "output_type": "display_data",
          "data": {
            "text/plain": [
              "<IPython.lib.display.Audio object>"
            ],
            "text/html": [
              "\n",
              "                <audio  controls=\"controls\" autoplay=\"autoplay\">\n",
              "                    <source src=\"data:audio/x-wav;base64,//NExAAREI0sAUwYAD9okCIeFcEwPrgTHeASBIPIV69zrr198pR9ABKHAx4PnwQOAg4Hw+XPiAEFhgTh9ToY4neCCnS/KBgo4T59Tv+T/5d6Ff8w2HxYVmIS0a8w3+Dg//NExA4R6R5QAZxQAANcNeAIzANP+WWDDAAlfQxgUFCnuYxg3AnH49/n7scXIPz9tDx+WM/phhvrf1DFEz//5/lP//X3IGplLtkgCMDhg4LSzNRTMfCcucDTIarKhMGG//NExBkYcSJsAdx4ACYKBJeRU85N2HDgfLdLa1clKkFgirh8IuPOyrgnXHv+/1fcOf43DnzldqvU7erIMemVO5Vc6MnFsp+s+8MhuhR97mVxRyP//6puUDswFQ81zNOV//NExAoVKR58AN4ecCEiBUQTASg7Q1KBNZuTdhacvuVsZ7v7gGL9q7WStevS1CPcLQYrnX4hS7zBiQ/7R4mntX82307zOrTskDyhB3+AxxkTlDbwJ/jQpWu3b0iAhsd2//NExAgTcYaIANvKlAscetL8wWiMMAmg0e3BKfH8KJ8Q3Fz+G8IQhDhdhOln14MWPv4jR/gweFGqLCjMEQ4zRFGZA8Ih87L///MomcFFU1fuIFntjtlUwLNJqRtpQQnN//NExA0VOTKkANYQcGmQoKLmiywAwDIdmNN+FBA5EUZQ2YKjDHwBASPBgUBkOZmHYAMNi8DQbnVkCjcIle4otZYu079/8XAoZQXD9b1HJRzC4f//1uc3cj4t/c5IBEtr//NExAsUKTK0AMYecc/safWMF4YthSx4EDh+i1ZOoFQrshgKsM/S/7J7KUnQdar8FTOETVn1Ne2f82g418499Zxne95puz6GAAGxAlxey4aUph3P/1JRgzybsvCAJhw5//NExA0VsUa4AMYecB8rKrF03HnKjIi0RdhlkGoITZMIKle2BmIGCCRAfC4IBlJEuTrjwp3T+JS2cU1XWr5zXH/rrf/xn5zjetx4ehrBlaTCTJMf1f+lV0Q4sEcMUjIa//NExAkT8T64AI4gceFyAc+F2M2Qg4CKEJp6RlRIVr0AsHS+M9jKlZDaOSKSDbgtiHKDMEoXhyibMDBBzFBNN3WpSmQS/7r7Mgkxnkwap7G7tb1p5z9bcE5PavzmLWh0//NExAwUQUqwAMZElIEfrTdxNIuCJUqvwpnpMAs2KxM9KyAIDSFUFRpSTpnejDjOOyyWc3lfjUswqUEHdpjsf0V/nXUgsokMFTJuwDixoKod6qHv6qtyJfGvXtVaJlRh//NExA4VoWakAM6KlNy/amFM+CEoaxzMupX2TfMtFNgBgWksVnCS2Ihcosy+UxxuQQMs6z52AzeUOm9Rf2I5GUoiBhxkcpVrcqj6wkFlw5pyrNNauSVBB6Y5AJ0ByE5Q//NExAoTETasAJ4ecE1lg3rm52NTT+B6HPwt6ukAUm+3ec0zBzN93sSMdgKl8/cVa5tTTE185an//x4GtY17s2v85eqnckOqXyNhd27X+lWbq57l4gMQVGkwPcibNhIo//NExBARaMakAMYScBjQ/LJdWmG7sdh7m8a7gv1lv/541HI9IVTQqmyQATYaWMIoIhJx4FXREtCb41e/F8ng0efRWkkGTWnpCBQLQPdKy1IafFkoFGTicXV6VVq9i1S///NExB0QEMJ4AVkYAK3ipNkx+qNfhgIUY0xEIgKRDTD2ok15aecAq1PLSPqe3Wp6KqIQijE2tPEWFDTralnZf3XaW46VaQHkFqk13EEMSAVHelnPPYSRWENfY0+cllcQ//NExC8dIxpsAZhQAUI5BNGXRmk6GlGPPGROVOEGCwW1uzZ5xckYxTy5ORBUAXHk0FwFhDaf+d7vwbzBWF4qFBeRD5zCn///X/zTB4VOSw+NMVoF/////////////Nf9//NExA0UMhaoAcJAASfUS73/dJRd0icwZaOe6nliAHgNJqB4cCIrhxVi4QJkBwOR8PyKq4VpVvsYZ3A+SBRP/u5/X+kR0GLB7+fJqc/jJ8heCv///////4PXuRfRIS4x//NExA8TqmK4AAhQuRBgoZZk2Uk7tuLlA0bDoPJIILGA3IHFBnDoUxosQiDqtDUVUqJcxE0re5SZ/RbkZx7zVpfk/YBHa2jTc7TbfeXsnKkstr3kwID4v/DHyX1///c7//NExBMSSdq8AGBQmPz/818TTPzNCR5i4+v5W6JNoQgsgsKjAbHXRKirRdcWUcpUNJc1walg7RRtJ4lW/1BV0l3S1Sq5rGlZSTUVLUZdY5TS7JccJkA/F/vFFMjaagMC//NExBwTqT6sAMvWcGvq+2evJ8fHcGg6LbA3gJpHnrkkh3nG7Lhr4/1Ye6Emsa9dYgQQOoSAXPlDPWJDqEjABXa4oQK1RqWgvEWoowqmaBMFrCspg0bZw3FDr3qdnx6I//NExCASCTq0AIvecGa3TnXreo5NEdM/ikgfWvpTutfbHNn+m97142fa8TLie+jdUlz68lUqXrDWBpKCiqHVCsb9ygmjLLuLdxu0nwqPilFP3fiC9b2akBh9ZkFIgtzA//NExCoRMTa0AI4acARxLqUsRtb1Dh3jT1D4lXJiXJ6Oek6tO6Q8Wl6w4QyKkllQGZDW4KZn+VZ0QVDHC7gGA5+NZi1j5wQQ2zAZQyHUPgK6ItmTH0jrdycU+5DbUapa//NExDgQkSa4AI4acIzaAM1V6tVDrXIqp/gGRjclyMDxtuowBk1a9eZ8tXun8EAo3zF/2HxXHE7JRzNyWB8KVJfCcGYElTAkHq7+nl1qLGctT+enKVaaE4qTs//0OYZq//NExEgR0SK8AH4YcN69RSljcAu4cKznjkQp9GYAAeHKyxy+AZxi5iga5pI68Av6te0UaMOqzGONQx4hf045TXV+I1tRLV1uaFik1q1eRLahCKil//5C/wiAlMXL8SNH//NExFMScSa4AHvecEZgNBLR46LMY6jQIIVgSIfRoKExzGVbElDmVzEJAHmpghxJB0IY0DiXfh35v0KB4KhwKEzQmEzP3//YioG4IZx9PmsWRHTtojTkrjdFyL0nBZkm//NExFwRIN68AHvYcEpDVhxGshYN8kRJUiThtL7DRiec1KzK0yCUmdGKQXFtcI7Flxzr21GvWvlra02cWrBBeLXGJACV1xdwasyTCHM1AzBYlttBjH6mAF2eCJ2XQykS//NExGoSqR6wAHvecSvjhSqrLCyyL5+sykPtPJ4rk7z7VzNmNbcm/qb4rjw/nUatbzcRWf/2aJLT1jmbktET1u2EdVm0R8Fft62OdyqAGnJtLiWF8mTicW1QvbWfZTKr//NExHISQR6oAHvecMJefUgiHo6mKqP3YqZ2S9lHIoes7V2TLf/3IzJ69M2qmHQbCCCpMwNYznZTDN6atUpqJEkSLRLQSLRme25/JyRraVRwUUSJDzIosLFGGY5GOUww//NExHwSCRaYAMPYcA0pe/Vv/l//aay1FUQnEp23///0VQkjAWHPqy2Xvy8Mal1NMrAJRsEP0Oh1YfD/LsSSKfxWyWAZMSOLIki0fagYkdCAGK1XXOs9NhGeKnFAydlb//NExIYR+cKEAMGKlMqqBvKCjL/l1Fci2NfmWFblnL+4a5vLv6gIyrE8osBAVjRWaGCKiUiRaScpYdd548eLNMdirlLZpTreOTorc9v+553o8hUHdrBRCgM4ACGKbcil//NExJEPyPpcAMDMcDUZfjcpMbj8dUeVcOizSKWPw82eEwwDQHandvPH7fk4Ex59KIi657vslr791Vv+aurfcH9pw0NF5mq7dW+6fVvo+w5CCyg7B8M+Ln+W/Ny1KIv///NExKQQ2MpMAVkYAM4TC9Ra3OhlHHf88TwymfEvfUNn6uP6eTDSSYcegcYOw5JNcl8YRsedKP1g5Bc96tETShRqL5LuPY4MMktAulwrSKQwIjwt4gKjVHEYNRsNy4Ab//NExLMgeypEAZpYAGCRhODdP9zN0mTTonFJf01VvY0NVoXb/0HM3SNFl9fRQOOe//UsscuJHXPoJrLqyUZSbF1U+3//nGOlNAwOpDzYly6ZGmXSTMxxlMzL5dL5ugkU//NExIQhOyqAAY9oABcSZTjVpEnqXDppO1LjjhtXueTTb9SqlMvZB/7SupPqG3/Ucyyqp756P73Rvl01TOHfPUX18+cue7+XxUV3EO+WMhufhxs2G5xrFM+uU3RuxysN//NExFIfkyqcAYtYAIRPQ9C5g3fJqUHqeSPLR3rKkGmIMmgnjrHUEATL9x9AEpInD+QTwTmD2H8h1QADf+//t7b///bvak6qviJ76nj6/r4u6//4j5/5+4/v7n/66j+f//NExCYZix6YAcVYAJbtumJ06Nl1DF890k7OqOcemTY0umOiG1asRDKRKMoJxuavNx2lZWTiPQbiDPjtPGBcSyFOigB4EMbi0GCU43eqAYn/Xb///1IxUdr6JP+bn/////NExBIWSxqYAChWvf/n218R//e3d+yvuN8Re6ImuW897dea6+5fslzjh9CnvNXKPlF1rQhbh3G1iBSEpqMR7HoHY+iEO8YggiCF47R+Mh1D8WL1VQNN/p//z///z7////NExAsR4yKgADhUvP////////u23tNzH27onWpk9kRndzD6sYpRWIzyEaITDppYRRhyErnCwFQjFAshcD4Pi4N5oYBaFYRA8NUIP///8v//9fv//////////9Oneyd6//NExBYSQyagABBUvKGnKlM2yHnbOp7nHoiGMYcTHoTlCg8BuIxbHgsh+PhKA4IEkEEMguBUNFYVyIQINpVyZwp////////y8v///////9X129qWlauqru1Deky3W6qV//NExCASqxacAChaudcvGBw6dZBUyMHZFRPOmI9y8UUyiVEqRSicJZMrExMjcOaO0LEeIX06VTIS3//////muf///9////7/+l5vvRbNd7s6vNVk1YnMKuUY3Ijj5rPN//NExCgR8yKgABBUvD3UfkhHNImG5ijEXnkInECqMnOPag8NH4niuAyIIaj6Bm/6//5f//Pr///zT//+3/f9m29/ttZU7zX7aUQwhJUNVjGNnkpDOUocTEtDBBFzDBk5//NExDMSkyKcAChUvHGIgBWLi8YlQviUL9AkmD0VR8H5ANyNqghb///+3/ZezztP///0/////an/X5vLpWi7tt5+a5AaZmMhqucgzPJT2c+ceeLhbYdMPG4gxMClCUgg//NExDsSMxqYAUdQAcVhFD0NBqXKnEI1H5eeDc5Q73yE1DrKW66Vrp+pdVBU7M3n0kEGdBT3UqzVOuh166mW2tlpWVV1rRWtnWyD9VtJknTdZqyCaLMcOJE+yJvRsmXj//NExEUfyyqMAYdoACNU7IHGZFBImE8ZimOIepmM5OEbIhJgtxNBtErl5BFY7RhxkjqbDjIA3EMks4kimeRNB7FZIlwuG5vVkIWEIRCEIT/IQhCF/p9DGMX///6GMUpS//NExBgSWx5oAcEQAJS/9DG+YxjfMYxi/lKZ/lL////MYpQoCAgICAgIEBCjfylKUKAgJspWo6BgICAjShTKCgnR0f0MAyMo3R0eeiBwTFRCbCIrKCrP+LCwaxYm8WFg//NExCER4HWMABhGSFgVwWCTEgIFgmRMgIFhUyZAQTImTILCpH9QqK9YqIQZDfB8E2TRmkZGCMDyMFYMpCVgysJWDKhiQMqFJC1QtIWjKoC0ZVHVGVR0XVZp9X////////NExCwR8AHkAAiGAf//////////+20+myySmyySuRZJVIsGVTLFqlYMHQyZQwUGg4RBIyIaEEhrQjIZMtljkyhgTo5GrBQYJmQWCQjMhIWFzISbqb9fs//FW48UJGni//NExDcSgN2wABhGcKJDTxUUND2Y9hmsVMgsKiMyCxNMQU1FMy4xMDCqqqqqqqqqqqqqqqqqqqqqqqqqqqqqqqqqqqqqqqqqqqqqqqqqqqqqqqqqqqqqqqqqTEFNRTMu//NExEAAAANIAAAAADEwMKqqqqqqqqqqqqqqqqqqqqqqqqqqqqqqqqqqqqqqqqqqqqqqqqqqqqqqqqqqqqqqqqqqqqqqqqqqqqqqqqqqqqqqqqqqqqqqqqqqTEFNRTMu//NExJMAAANIAAAAADEwMKqqqqqqqqqqqqqqqqqqqqqqqqqqqqqqqqqqqqqqqqqqqqqqqqqqqqqqqqqqqqqqqqqqqqqqqqqqqqqqqqqqqqqqqqqqqqqqqqqqTEFNRTMu//NExKwAAANIAAAAADEwMKqqqqqqqqqqqqqqqqqqqqqqqqqqqqqqqqqqqqqqqqqqqqqqqqqqqqqqqqqqqqqqqqqqqqqqqqqqqqqqqqqqqqqqqqqqqqqqqqqqTEFNRTMu//NExKwAAANIAAAAADEwMKqqqqqqqqqqqqqqqqqqqqqqqqqqqqqqqqqqqqqqqqqqqqqqqqqqqqqqqqqqqqqqqqqqqqqqqqqqqqqqqqqqqqqqqqqqqqqqqqqqqqqqqqqq//NExKwAAANIAAAAAKqqqqqqqqqqqqqqqqqqqqqqqqqqqqqqqqqqqqqqqqqqqqqqqqqqqqqqqqqqqqqqqqqqqqqqqqqqqqqqqqqqqqqqqqqqqqqqqqqqqqqqqqqqqqqq//NExKwAAANIAAAAAKqqqqqqqqqqqqqqqqqqqqqqqqqqqqqqqqqqqqqqqqqqqqqqqqqqqqqqqqqqqqqqqqqqqqqqqqqqqqqqqqqqqqqqqqqqqqqqqqqqqqqqqqqqqqqq\" type=\"audio/x-wav\" />\n",
              "                    Your browser does not support the audio element.\n",
              "                </audio>\n",
              "              "
            ]
          },
          "metadata": {}
        },
        {
          "output_type": "stream",
          "name": "stdout",
          "text": [
            "4\n"
          ]
        },
        {
          "output_type": "display_data",
          "data": {
            "text/plain": [
              "<IPython.lib.display.Audio object>"
            ],
            "text/html": [
              "\n",
              "                <audio  controls=\"controls\" autoplay=\"autoplay\">\n",
              "                    <source src=\"data:audio/x-wav;base64,//NExAASYAW0AUAYAf+AyAOjj4Z8D/8/giIIzD2g/hn+H/AZAHB58M+T/Dz8BEQRmH+P478w/wBkAcHn5vt/h5+AiIIzH+fz/zD/AGQBwe/f274efAAF/0F3HEzaJf/D//NExAkUGypIAZo4APOw/Y/5XPwNrkFe5f/Lupv8/5xn/7LCcwz+f+UGhYAwViWN/+r/5jjSQHy5X///55ccJmUYmTOIG//+e7f7fIVPLmMx6kTyCl9DUUP2GFF/y479//NExAsU0dqwAYYoAO7n+WUw7T6OVSs1UZGOd3GGZr6EMICjK7HYRETB4YLxgiEw4Pc7kac7kFGI9+qDRfGud3rQw8gGgJQNgyP00L3K5kUzyB40oqqvW+43E53TjpfY//NExAoTgbKoAdhAAGKQdp/KepvLv73hzn8xHUvvPPd3///xHc6ULh2CsXlJLfWaR/gYRcUhTWl3atA9/+sdUv3BQu6msNIe53fsjWEf5H/rxx3hGzEHmDTsua0Khjpn//NExA8WOaasANISlFB+LYsDwiP/Zld63/3+qFn+0Tf8k0c5FlwQJAJDIHCcExO3aJOTFUiJRWT8hOcxkYShuylOqrY90kRdRNsWNhE/ULKDLU/////Rr/+8BVE2l7dy//NExAkUuaq0ANHWlBswVcFV3PsOgPgD32NZecvmmNqPUziRozlEwHWO/UAmECO8x1S02OM0R2miTH5Um5m66fPDpr+Y321lsZR0Bic2iJhzmf////qS5/9wRmOJ3PsW//NExAkTKTK4AMUScHMUaBokBQIgnQGoRc+1yiUDTpOrP/GUP5NMKMeSoUJGCAUjR+DqlT9zKWnC21SVBMMC4T00vqZLFRCAyzekUd////9VfsOcBgFgoxUYzIKAuSA0//NExA8SoS6wAKUQcOHM0HUUhjg9/rYjyffsNj9VES/ZQlBZsLA2D4sP49hZ6+GabrUoWFTQNAYOJo+rhoLrLCfRv/////lRRdf/6fg6gzzzqR5Zaq0rw/BFHCbWOHRs//NExBcQ2t6wAMHEuf/5hz+VCUzb13Zv/zOjr/////zupH6f//+tPJR/kV8hP9XelQ4uScAAOQGBCrVKEgElnyR5H6zr//9cJzy9//+fl//p/+iqdRO/bovqnd2adQpc//NExCYSQx60ADhOvMZ9nl2OJjUow87Mx48aMGKNJTIMQGxxVTi5EJ0MPOKjqCOTP4v///X///P///y/////3R7Ic3Yy1UdXVbK30vvZT1NPWdQwxDSZ5zGF2cqOEEZw//NExDARuxqwAAhOvLoxooG4UElwmFAhJBGBYSxQYVLCUVPTX///////l/////P9P//t9rM1UN3+tOtulz2NPcilKlTzkcug8cOEjRwRFIEjyAUHHDZISiQWJi0kE43B//NExDwSWxqwAAhOvcBACw8aisfOFRwTjiKKP///////ov//////////nHWrvz1q2Y2qrnHnsqmKg66T3dLFx9x0iOjYeJceMLjQbDJgpCVhWJYqB4aICIkjU0FpEcFw//NExEUR8xqwAAhOvTwogi////////////+f/////+mjNd7N1oiKZyoxxB3pYp3dkIQ4sIMHHMOAMPi4mIM4uB1YeNExgsHiixwUARzCwq4dESCY6j/+v////5Tyzf////NExFARIxqwAAhKvfP///f679LW/Y03+isXPIOqfKxEKVEQfcIkYimDQc4gRGZzA7uUweEBQYIBomJCQdOIijCxxITYQFIz8WsAIrwg62z//////HJA///81///7/7///NExF4RMx6wAAhKvNWerP1R05qmymZFQqFW0pWdFVFuxnKGQzshgwICFyOVhQkpQwEdB5TGMdkIODqlnPHTQhp32ClUM75VZVQLnNrWbTvZXa1nK8s+YZ8xr0e/1fo9//NExGwRox6wADBEvG+5daYFjnKM/Lv9o7Pf/bGcmnYDf//yr+rkcjWVYW/lTuz3T1k+7aHacm/odS2nQ7KRCpmrhiqquTBW08MAXVeY1dGqYaipDyeVui2K2dLW7vKZ//NExHgTYSKgAM4McMyo7d1IfNWOUJGaqgUheM0UjWgaHBsZY7Cs0JQdgWCJmOwejpnTK9PWq99arrTsmg6RcM2VN9k1sgaGAw1VBYskl9//7zbm7io2lnZWQKWbxWSC//NExH0c8daQANvamMwSafcKID5QgdmlMQIYcjBmOHSbYChnFDDWrrNXN0tTLIpCNgmBHAkJ5NLSebHj5s06SEzUwOE41G03LTY2ttMnt1TPP3XMVVP3uXRtzHc/33yo//NExFwZ2dKcANJWlAIJLXioqd///v9dVb9K7Riw4PA0Ve4Sp4u6YMiDXxMv9aFABwxDEli9dk23mM40yh8XGWiuFO440iHLRuD9fuIi44XW0k5Zb1dGw2KmaRUKGqvJ//NExEcaQZqUANvelFIV6Mtfuv9P/r/Fv81+M6+f7uD6y3C2Lnihry1v///+HRSaqWTIxp+Mh0dFQJ31VDEKoysKFvVoCG4ZRZJoy4PCNiAocwmW2YEGtGCssBD1DUfC//NExDEWSRaUANvecOWFua9VbJYtIla5jxaRXz5jR50qmJc65b6velwGMGkv1LFls9X///UqbrerGYGsC4CFPIiSTKPnCo69HvRfHvfpTGezWxJtbgOzp4It27IvpZlh//NExCoVWRKMAN4ecBRh1HEi2MvLzKifXat29/uka0rNbvnKO4OXD51r/68oHGsvrapn////Un1VUsnemmnE9AJYgwUEqeFB81h2Wa6wAIUykGaTVi+5c5fxSbxvM+wr//NExCcVOQ6EAN4ecMpeelbCQ0SacY3FvLDaE3fG628k9bT79Z8wVDHYYG7mf5O0RjUN34J/2////9B7JU3E3Jfam7YInQcXL6cAzLTUETjC5wNK+oyg5lESAsOUElQk//NExCUXcY54AN4OlEjlTc1wU0ArCPO0pHqI09I73fiV//ud8oS3qh1TnOckpQNMvd/20/9UQUs164mXQn////Ukr1ToBmzsRjZ7WikobMtxByNIR+jn0xMZboqVIVQO//NExBoS2J54ANbeTNkT5uz6atVgUxDYCdEBRhOAJ8sOZ2XEBtyLKHSJe5UQCUVEQY//qYj/////7PYQDjU1fyGGih+GUvEWwIsbJREfHwrcM0N2SYNke93IeV1OQFUG//NExCER2KJ0ANaYTCmHm46rhqP2XH8el+RRVw6nchIeFxgsj/ph9TqZx//////pFmmhygoXUbVQPSgao8YNHA6k+LvxGWFcGpWPptq1lxmQ1TpJCx8vmRRQruifoP4R//NExCwQgO5sANPMcHqLnvu72vdZ2WGxALuEq5Xf+idah2kAqBEQEXOikMlZ1fcJd1FlNDeH8dp4l+QqEfwtxClqQlQuSFeuGKesHA6Hw0VVdr9V9YOm9rWLmF///qGF//NExD0RuTZcAMvQcI9nfoLHeJlnfDsjnqRYLj4cqqlCINNLnrWbqcXBmoYhOWsjQ5TjDCYcfi4qYSCbCCxA1wifEjyKS6eL8k25aN9lqmrr66KbdG1zWfWqAU81SI6S//NExEkQiK4IAGJGTJY0BAVKHs4EDEgTkGqAKCgpks06CoVDUsBSLSKjwdAoJCwFEMqAiUlW6wNRFYIolTQGgq731u5Fo8ieAXjzJL3lWHfXH6RRSIWnF2um2RQUAQEC//NExFkSeH34AEjGSJ1ykxUMFBByFAQUMsmYBxqZkyCwkD7kPSaekz6DJlQsHxgs22vzRr8WrbCorv//voNKAJg2xwE3NU4kNTyRIxwTEJZdg0hVUmwKVrCZY6DiQwIP//NExGIQGH30AHmGSAFFQEKiMyCwTDISJAyJA8BRVhphkJCMyEveKkn0i/+z/9bf6vFKFCRQw4gWQ5/+qso4w4gWIMmTIJhg0aNGvQaNZkyZ/mjRo2ZMmTJo0aNGzJky//NExHQRoJW0AHpGTGTRo082ZMmZo1/mTJkwaNGjRkyZMmDRo0aMmTJmE0E0IQJC4Jhsn14EAAAIg+Jw+CA0HBOfECwwt+UcJz8QBit4IHJf+IHhioE3rD+sHwfBw5wQ//NExIAAAANIAAAAAHQQdT/+D+HuJznxBW4vwtwaoQ4uTNmuXr3UJ8BNW1AROzGzNVKM2zN//7MzfquzMfVVS//VVL///4qr9VV1UtVCqDQNHqgaBoDA0dlXBzBX+JcR//NExNMScGz8ABCGKCw1LA08sewaBqJYNExBTUUzLjEwMKqqqqqqqqqqqqqqqqqqqqqqqqqqqqqqqqqqqqqqqqqqqqqqqqqqqqqqqqqqqqqqqqqqqqqqqqqqTEFNRTMu//NExNwQaDnsAHpGBDEwMKqqqqqqqqqqqqqqqqqqqqqqqqqqqqqqqqqqqqqqqqqqqqqqqqqqqqqqqqqqqqqqqqqqqqqqqqqqqqqqqqqqqqqqqqqqqqqqqqqqqqqqqqqq//NExO0UubHcAHjGlKqqqqqqqqqqqqqqqqqqqqqqqqqqqqqqqqqqqqqqqqqqqqqqqqqqqqqqqqqqqqqqqqqqqqqqqqqqqqqqqqqqqqqqqqqqqqqqqqqqqqqqqqqqqqqq//NExKwAAANIAAAAAKqqqqqqqqqqqqqqqqqqqqqqqqqqqqqqqqqqqqqqqqqqqqqqqqqqqqqqqqqqqqqqqqqqqqqqqqqqqqqqqqqqqqqqqqqqqqqqqqqqqqqqqqqqqqqq\" type=\"audio/x-wav\" />\n",
              "                    Your browser does not support the audio element.\n",
              "                </audio>\n",
              "              "
            ]
          },
          "metadata": {}
        },
        {
          "output_type": "stream",
          "name": "stdout",
          "text": [
            "5\n"
          ]
        },
        {
          "output_type": "display_data",
          "data": {
            "text/plain": [
              "<IPython.lib.display.Audio object>"
            ],
            "text/html": [
              "\n",
              "                <audio  controls=\"controls\" autoplay=\"autoplay\">\n",
              "                    <source src=\"data:audio/x-wav;base64,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\" type=\"audio/x-wav\" />\n",
              "                    Your browser does not support the audio element.\n",
              "                </audio>\n",
              "              "
            ]
          },
          "metadata": {}
        },
        {
          "output_type": "stream",
          "name": "stdout",
          "text": [
            "6\n"
          ]
        },
        {
          "output_type": "display_data",
          "data": {
            "text/plain": [
              "<IPython.lib.display.Audio object>"
            ],
            "text/html": [
              "\n",
              "                <audio  controls=\"controls\" autoplay=\"autoplay\">\n",
              "                    <source src=\"data:audio/x-wav;base64,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\" type=\"audio/x-wav\" />\n",
              "                    Your browser does not support the audio element.\n",
              "                </audio>\n",
              "              "
            ]
          },
          "metadata": {}
        }
      ]
    },
    {
      "cell_type": "markdown",
      "source": [
        "# **Listen Carefully**\n",
        "In this the computer will randomly play the sound one by one corresponding to each number generated randomly. "
      ],
      "metadata": {
        "id": "WROhk1Jy24du"
      }
    },
    {
      "cell_type": "code",
      "source": [
        "for i in random_array:\n",
        "      voice=list1[i]\n",
        "      tts = gTTS(\"{}\".format(voice)) \n",
        "      tts.save('1.wav')\n",
        "      sound_file = '1.wav'\n",
        "      wn = Audio(sound_file, autoplay=True)\n",
        "      display(wn)##\"\"\"\n",
        "      time.sleep(2)\n",
        "      "
      ],
      "metadata": {
        "colab": {
          "base_uri": "https://localhost:8080/",
          "height": 427
        },
        "id": "dZZpkBDPxY4w",
        "outputId": "6d710cef-1b30-49ee-ebd4-06e6bbcae64b"
      },
      "execution_count": null,
      "outputs": [
        {
          "output_type": "display_data",
          "data": {
            "text/plain": [
              "<IPython.lib.display.Audio object>"
            ],
            "text/html": [
              "\n",
              "                <audio  controls=\"controls\" autoplay=\"autoplay\">\n",
              "                    <source src=\"data:audio/x-wav;base64,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\" type=\"audio/x-wav\" />\n",
              "                    Your browser does not support the audio element.\n",
              "                </audio>\n",
              "              "
            ]
          },
          "metadata": {}
        },
        {
          "output_type": "display_data",
          "data": {
            "text/plain": [
              "<IPython.lib.display.Audio object>"
            ],
            "text/html": [
              "\n",
              "                <audio  controls=\"controls\" autoplay=\"autoplay\">\n",
              "                    <source src=\"data:audio/x-wav;base64,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\" type=\"audio/x-wav\" />\n",
              "                    Your browser does not support the audio element.\n",
              "                </audio>\n",
              "              "
            ]
          },
          "metadata": {}
        },
        {
          "output_type": "display_data",
          "data": {
            "text/plain": [
              "<IPython.lib.display.Audio object>"
            ],
            "text/html": [
              "\n",
              "                <audio  controls=\"controls\" autoplay=\"autoplay\">\n",
              "                    <source src=\"data:audio/x-wav;base64,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\" type=\"audio/x-wav\" />\n",
              "                    Your browser does not support the audio element.\n",
              "                </audio>\n",
              "              "
            ]
          },
          "metadata": {}
        },
        {
          "output_type": "display_data",
          "data": {
            "text/plain": [
              "<IPython.lib.display.Audio object>"
            ],
            "text/html": [
              "\n",
              "                <audio  controls=\"controls\" autoplay=\"autoplay\">\n",
              "                    <source src=\"data:audio/x-wav;base64,//NExAAQIQXIAUMYAHdzQAABFAAAq5//E+8d34iFUQq5/+hbuaAYGaIXwDd+v///EDgQlz4jeQqB94IBgSHGlBoIO+CA0EFviQMLB+H1/wMHU3J1xQD/3Hkzztf/4bl7//NExBIWuyZIAZpQAM1rjRXFuN/o0Lcfi3/PzGG5EQfv81CQhLiI/n/heINAUCLUPv+e7fi2LA0ICQRAvG5v//3+4/Lk+jHnnGL//+3+32ZaGMynmkYlIGBlqKQRNXf3//NExAoTWwKoAYc4Adv23TT/teqfzHMaYw8PIdn0VZ9zSY3ImjcmgKZ/8cYaKYXnzxsD8uUPGt//3arv8wdMPYtUw9nP//9sz+f6oSyJ3cLVH/6v//3//W/MovQ+ZuiI//NExA8UQtawAcI4AEz5lDCBilCIPxkUGXKsiitiY8D9RWCYjknB4ecw6ik5IgcWPuZcvmFWuY44Pk5CqdDaJT/f9a9qJMa/ZY/ZUNmXlw/8kwf/P//75xwBkJX3SyCU//NExBEVOeq4AAhSmSuzpAgKE6hkMCeCrGT28qVvOEa0SJSYNkeLpE8F5RSWUZN0rP0xCUZMHRpRPWd+xuwjohAeZN8/F2Gv6tz5DKp5/U8sal5xm4Tb6W+d70f1U91O//NExA8WQhq0AAiMmRBI6mViql0UTXhiKJpa0DByKgNICPMpmb/anXcoeigDHJJQFXGzD1DJMU87bJUz5MJNV5j8p9f93+iX/bu+3/XH8GsH3l4VQ8oWew9wzYAgH6l4//NExAkUaYqsAHsElJlEAJAGgYqvYcMx0djudBIPlbwvyvjmm4ZzRhgmKLnjKxWHzpDOGFnOL8TcBAWdgwopWm/pVHVDGMBBUFaJGo8UFGWff////00yeicCfApRsiiW//NExAoSQQ60AJYecAIw02p3ldr4vmtfpYgFBFEKPDOPqr0l/7IgIASabt7GH+2b/tLG/zBln18yx31fpgZOlR+rUR9RGJ1+lj1ol21nAlhDlqohl57b+Ht0NUEacsa6//NExBQSCR64AJYecDeeUscwzmE5Csmr+5AGQBFYpo+12ZWf6MDNv/w5v/SJG/xd9nXvHtKALW5RmvaJa0RASsSqbqC/QbQjohA3bWGbwAUNJYzvJumSilj8RufvhYKs//NExB4Q8Sq8AIYgcHbpI/hoIsBsmoji2aai8tPcyTQ9DUiz6JiYGZogWFnI/NLCfzo66jocIC6YJrYV0FESC79wuaHVJ4U12dEYgeGHMZy6HIu3QIDzOFgT4BshFCgy//NExC0R+S60AIZacI6YjwvU6TetXSduix9lOpM00OqdXUFRzNR4B0WuwxwCryvplxlyFlupMSgGDnwRJqarJQoOdjaF9eXS2GkygwMoRiyIEFkDo35ETDf7PzTT/n9T//NExDgRaSKwAJ5UcEsfGBzQ+l/WEwTf6f9Kpa/fmwuEIIx+WTdMl4QJjUM/OM6ftRE4qyICnj0reoAnCR0lkL/Vl5FxgLDxxpwjA6ebNf6Hf/U3zhsAnqPfb8RHv/+m//NExEURMSKkAMZOcDAgBBZmzxEBOa5Kg6FL3NVdNPkCjguZdNArayhE5zTGxQdmjJplHlxJPGnebi9s87IIGlMIgUvW3l/p+1SmcRf+3qrDX/+p5KoGIiU6zogwochP//NExFMSESZoAN4KcINThtNqtjneLCqI1cUy6qDGgCMJUhRiaDKjXvhFLg2AdAmrFDr1ReYZb8iiqvWv1uVSju7V93T9iNNdNNOQ5M3hntVfsLry/HFA5wfpW3QjcxB5//NExF0RKJpEAMvGTB0xJbnlZqxEnZlTNRCkg3MDXNYdt8yACXjmijKm1PdVmq+lmrKo79FS0oU7NZfFuwfH607TWt16tsFx5cTiN5oTqCgJgATh8QknKHoKONoL1NGo//NExGsQoPpEANDGcLzFwogpHRiFYpNNECPdNJn6PIdN928Y7bWqing4PWINBpncTriD7LQdFG8nO8nXqGBIBkgg6omwWkZMDgoAJIG1rOyyCCtCIEHBqkBiYzI0lWRc//NExHsQSDpQAVgYAI4kDUh5sQIhzHTV6ucNDNy4TiB0vlMtk96s8mfLDGhmmizOvvt71InppWfNTVlIp//0lmy00UEHTafSWi1a3dL/9vRdSl1oXqPeJgoCCxeNxF0R//NExIwiAuqEAZuYAOGnouGXDIxFQIbzkEYCY2mCYeGc+kYYODhJg0Zv2YdLKwSWhiAw6XJgCUhiBQsRAzhUT4BmwIGnIgYccK6IXFxkWFnDoIIThfNDRBy+X01IoIKT//NExFchSc6IAdqgADuszn00TU1dZEBqFQnE0nTZ1V9tqak0VLoHDU+g67/0FIn4kq8JOo1//9Pl4WTVjV6mEEh7BtmhsKIAPJhrKgY4dI+AgqPgiKHADomqBiEeGKoC//NExCQbKSKYAM6YcH/EIMFAmJMeMAKKhMFBUIQMISJA8VCQFRJLpLTTf3HdherW+Xyf62/X+rBlG1lkQ8Hw6TdAsijNJFnvxMVJzjAyj////9xVaVrH7AXGJmaN0BiJ//NExAoUSSKkAM4QcH9OuGarKcE+m4FoqMQEFzg0TFpKlXcmXjBoWTO07iZF+RArBWBEgOA9tCCap4t3r5uIpo6a5abso1Gj0f849LeK/V/////1VccoJBNKob6OgMJf//NExAsUcSKgAM5QcIxEKYk9LXIFNkRofl4l7ALphcOKTMAKCvNGkjCQlIVy3TAGsUDYepB9cLCU3dXxM7LVS3MNag2YPM7l88UYg9/MP/////+llFuscgT+JYQTjtQU//NExAwSsSKgAMYQcGqDFsRA4+BikNGJCsM8nuyi3JCATjQ09YdZ+nSh1SW4RvQcXpNcfC/t6enxHwtQHDLPJdtX0tC/+Af/////oct1zdFv6IEBrbKJGuTXoBFsTKRa//NExBQR0YqcAM4ElMj7ohVHWr95AC8aKbXSiVH2dmUEH1Jye1y3/3O/nj/pzatR9FkLUDEuc23bTXmexkDmehWf1HTcSoaAUwHjpStshZdpQW8pzF1O00KCMloWzxl6//NExB8SKLaYAM4wTIiFcrAFV54iArJbHYGyxqT2+b/7tF2WoSfCI4DWXe9SQ9/oUgd/////SmWV2xGLSy59BDITAhtvAzi9imZkMLGXgWBGkNiQmBGUFKoYUGqXQ2La//NExCkRmJqQANawTNpW2T0mdjnzSyz2e25cswEwMdZ/W8uz+7/////9Fa8sbmBcoblhMkNkMeFSAhBv9TAy0ozKXpKDlaGTCEewEMuYu7qH6Q8WmmRT9mlnd7qsIocu//NExDURqJqIAM6wTJsurxoZb/ZBwJNf/0/////8ckP2+lpsqbtJ6lWuPbWLCMAcMY8sgNqw8jr0oMDDrDgvpS+sMmTDZAXtLfT/xK7pi0M7O7Ta//qvfRHCgx9TRG8y//NExEERWSJ8ANYEcAJ/r70VMEEZi/R4bg8KZeaSqDnL5O4XRbzZhiaZstdpY0djsPQ0k6gURHe1QWCYtflGdnu8sM88eZf/9/P9+a7ZV10Ck0//fgLHu65F6k8EDhCb//NExE4SQX5wANYElDvS0DEVjBAWTMtH0EiSKyQqIzxENL6egd4VAwwfSXforND9iRpLwvqeRtGAsRGrcSDU8NYv6oQbIyosDxX/6Fox4B0zoUA0BJxbpnIgWuBxL6di//NExFgRKKJkANPeTAy4opjiWiIcSEkAzhDR3GWWFSql9euNxYUKHEjNtH0swKHodCYSHjAKSf9ISLN3jyJ1+FTNASBkx4nFqT09stLMDTdqFqC1iWE92pzpLIu9Bg2Z//NExGYR6LYwAMPeTAid1r1AUWoVcySWJ16QJggMhdAeCC2peAEhdrxk0l5jvRRlf//6E9DnrYGAmoCJgZSYCahRJKJJgJqAicKJJgJqAtQokmZqzaqTM0ZtVJgwwGio//NExHER8R3oAGJGcGgZGA0VDQlGA0VOiUYHSp4SuDqnlZH/////66EyLKCaK4j4skcXjofufzyJWDih2dnHC5ydnY6/dn/s//////s/9n//+zO3uzOz7Owzs9yuMMdt//NExHwRMP3UABjGcNnGBN0yCD6H+kzpNGqAuhoIQss4gjVSXK40C00xE4IgGHpDP8wKDY0KTRg3DwTWQtOe6e5vq5R17E4X6upZuThdZCdReIdKThKwzpewjL4yjiHh//NExIoRamWUAGFEuDoGEjiA4JXjDCxDzzMQHBKcJxYQGGU4ThwgViPQODDKOR6AwrCR07FUcZy6wwwtH5WGECwlXrAYHDAxFRXi7ngeSGqYWglV4KCgnEhhGCwkAoUN//NExJcf2t3cAMJGuQVZ5YXT+gUQPIgJhkWR+LGmQqRGVNHpCZEYSBkkBWAIJmRY0KoCqdSPoCgeHpBYRmaBRUxBTUUzLjEwMFVVVVVVVVVVVVVVVVVVVVVVTEFNRTMu//NExGoSYEnIAHmGJDEwMFVVVVVVVVVVVVVVVVVVVVVVVVVVVVVVVVVVVVVVVVVVVVVVVVVVVVVVVVVVVVVVVVVVVVVVVVVVVVVVVVVVVVVVVVVVVVVVVVVVTEFNRTMu//NExHMAAANIAAAAADEwMFVVVVVVVVVVVVVVVVVVVVVVVVVVVVVVVVVVVVVVVVVVVVVVVVVVVVVVVVVVVVVVVVVVVVVVVVVVVVVVVVVVVVVVVVVVVVVVVVVVVVVVVVVV//NExKwAAANIAAAAAFVVVVVVVVVVVVVVVVVVVVVVVVVVVVVVVVVVVVVVVVVVVVVVVVVVVVVVVVVVVVVVVVVVVVVVVVVVVVVVVVVVVVVVVVVVVVVVVVVVVVVVVVVVVVVV//NExKwAAANIAAAAAFVVVVVVVVVVVVVVVVVVVVVVVVVVVVVVVVVVVVVVVVVVVVVVVVVVVVVVVVVVVVVVVVVVVVVVVVVVVVVVVVVVVVVVVVVVVVVVVVVVVVVVVVVVVVVV\" type=\"audio/x-wav\" />\n",
              "                    Your browser does not support the audio element.\n",
              "                </audio>\n",
              "              "
            ]
          },
          "metadata": {}
        },
        {
          "output_type": "display_data",
          "data": {
            "text/plain": [
              "<IPython.lib.display.Audio object>"
            ],
            "text/html": [
              "\n",
              "                <audio  controls=\"controls\" autoplay=\"autoplay\">\n",
              "                    <source src=\"data:audio/x-wav;base64,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\" type=\"audio/x-wav\" />\n",
              "                    Your browser does not support the audio element.\n",
              "                </audio>\n",
              "              "
            ]
          },
          "metadata": {}
        },
        {
          "output_type": "display_data",
          "data": {
            "text/plain": [
              "<IPython.lib.display.Audio object>"
            ],
            "text/html": [
              "\n",
              "                <audio  controls=\"controls\" autoplay=\"autoplay\">\n",
              "                    <source src=\"data:audio/x-wav;base64,//NExAAQIQXIAUMYAHdzQAABFAAAq5//E+8d34iFUQq5/+hbuaAYGaIXwDd+v///EDgQlz4jeQqB94IBgSHGlBoIO+CA0EFviQMLB+H1/wMHU3J1xQD/3Hkzztf/4bl7//NExBIWuyZIAZpQAM1rjRXFuN/o0Lcfi3/PzGG5EQfv81CQhLiI/n/heINAUCLUPv+e7fi2LA0ICQRAvG5v//3+4/Lk+jHnnGL//+3+32ZaGMynmkYlIGBlqKQRNXf3//NExAoTWwKoAYc4Adv23TT/teqfzHMaYw8PIdn0VZ9zSY3ImjcmgKZ/8cYaKYXnzxsD8uUPGt//3arv8wdMPYtUw9nP//9sz+f6oSyJ3cLVH/6v//3//W/MovQ+Y10M//NExA8UytawAcI4AEJk0MoYQMUoRB+Migy5VkUVsTOB+eKw2I5JweHnMOopOXIHFj7mXL5hVrmONB8nIVTobRKfTf9a9qJMa/ZUH7KgDMvLqg/8kwf/P//75zgDISvu//NExA4VMeq4AAhSmZZBKFdmRAgICdRkMD8FWMnt5UrecI1okSkwbI8mkTwXlFJZRlulZ+nQlGTBwdKJ67fot2EdEIDzJuT8XYa/q3PGGVTz+p5aa/OM3Cb6W+d70f1n//NExAwUQeK4AAiMmLqcIUdTKxVS6KteQiiaWtAxJFQGkBHmUzN/tTruUHRQJHJJQS2NeHqGpmedtkqFXBkRH3KeL1po7NbaFPh1TWpUFRqlGpbT367RizDgwPYuvQBB//NExA4V8YqoAMMMlAYBtY2kPS3E4+2VgQIm/e52f/NGDxfOMLIllTxlYb3/bcVpyZPU379H6RI5uHJEZz1X//7O/12OpIkFQVkpHPFBRlndBr///f+m138aAcwmd3m6//NExAkRSQa0AMYecIKiV7l+2EGSSNNrtKjuaTtQn9X2QJ8y79zsBxpuvRZLx4s2fdnfZ+ZZYv/8rFfXo8Eijj1hZ9P063fvAtX0AF4WBNsGnX1/tkErvblVjxUal5er//NExBYRGS64AIYacFuZGVIDJyv0cIArGZgaONYShQ5dIZvy6m9Sycl0SadssyNfOh+s5VkXyLlC/r1KbohBgLjszglGh4Z4S8cWZfR4V1DTShBz8uwtVxEWrHPxwjws//NExCQReSa4AG5icAgXBFHUtIjTd8xOGjaJxN+yfUb6jIvHjRxI/Wz0pUCm6lHH/wzdkXRe3u46Q8vXudvF9jcElU7Ryh5gr0JMOpQVXrXSXrrpFgTYAWRgjV1mqJs3//NExDERiS60AMZacKL+pukk3RZPUiYmDirXlkaXZ+Mb9KpHrF4BTl5a1EPLUpx2M5W34VoUrgilkb6kIQXjW/Tyq7KhwBdZcLpgOEJqMAeqWYlhp6k36S36TJvoopM1//NExD0RcTawAI5acEkdP1N308yYoozXz1MpDnK40+3KHjXeIkhbKBJ+WNKJVhzzjgzt2ypUFRQkactxX+tCMEGCs8Mq03GaXn5fWs/+l+hjehn8okyiUN///+6hXegw//NExEoSQaKgAM6ElBi1ysVKvE1JO6UxEnyzQyCa1JNas9oKaxcEusAWAqeGQqbLpCwboM4fZ1oQixMWxnQ1lgvo3CrmHsie/JTyv2q54sSf//K1AiI02pzFhGcbJhwl//NExFQR2J5oAMZeTBaGGGRbDUlwDqZ5nz5OpJpYRsTlI/EtR78/VCmDyj59e0mSj4wfFOSb2zSa9tK3WNs0eX7b6X9tDqBVHqUz04VCP2/MYbGzWW541pcPQx8ytO7s//NExF8SIJpEAMvMTM/3c3wZLUbStGnPsjblEFJGa3pY1Fh/Y5zqMacXlG1H8m65P2fUnQj1LH6VKj01d8PXIflPYhXWhopzkM8Q9qcrlQMwSbORocIOYNmyBzalpcLR//NExGkQiPpEANGEcDhAdvATgyFSjjYvOXVzjzCNE4smicPsGmLWV1n239XFoXHvIVEjIGXKASTRPL9gFE1QwsUNTlkISnIKsnniexgFY0821Hluipe+kpXOqdE9Jkyx//NExHkSeLJQAMGGTDeFItk7SHUsxult0nNw3HJTI6f+mFnBiex2m7T5MvT7JsQFrrP7bE8+oXDSnnZ/4eIpB7adel59di9ULn0vDA948hepHoze9mO9Hb7/9DlnrGGG//NExIIhcdJ4AM4MlX/TJ+mAZS3YqjTK8DOggMOUSBpw/LwGgDFhAtGM9hBQIKijLKDgRhEeIgaJSK4cqARFWAHEAYbMgVFAIChmjImTAL9hzjpwOyuH6a9T5540lJhz//NExE8hOeKIANaQmCvc/O/vO5oe6FsPGhYF40PhE6h+b//67R1GVjGFHha6T/4nLRZzIijb1E1z+fF//895NZtrkqbGgGRYHGxWJFUMcYuup3RGJOacAQpkxjERgQah//NExB0ZKSKYANaYcC8JiTZiQSdTtqLgYMqZQJSoFIYgnaARq3l0YngNafeW2vH20raemd/6Tf6f7l+WRQuvPgQMIGE1gNtTX1P9TmsV7/T////sVdYTIXyNZrPiY5pM//NExAsUGR6kAMZOcNA+Bm8nlZQbPEB/oixsHET1VVdTbOnegINir/iFFTasLAcAFKcKSKIOtU57Ptz9FR1dmiONHGjj+zuWZUY8oe/6v////SqZsRMAWu3SRgFiSuNA//NExA0UeSacAM5WcEWCIazhkvMDva2UYfFgYxNp4QXhIQUtFE0AgkeOZ3Tg2WWUgnHpUe6T6/LviYZTuXcRFsYbRjvJqCSbHKZpHCAuGwy714hnQCLUi2QIJ0zkRIvN//NExA4TuR6gAMYQcAbQqs4kdeMhXag11eAQ15aitiV1Zuocp1oaZiNCFnAed2ItQQ3LXuvMfTcSvC1oLWedBGlTLvPgw7+tCP/////Sy5QmPvOing4vugfDzEGgHeQX//NExBIRYSKcAMZQcGDCZxwaYREWfgNGqV1guTDT/xIgGW8QOCLUtbhea9/hfpu2vhflXLNwe7Lcs0iCB78i8Vq3qDQZFNygZoGmKOFEbblPGZm49HDjdkF6sPItNQly//NExB8RkR6YAM5OcLK2l2UA5CA3EWDFhbDgOONHBcs1rG/Tvm91nPKkWAiGXL7Zgv/tSqpxJW2Qwq6lENFFIk6QFih0VZgYTEJAnxh4WPW6MwwWbl5KJV47CwYYPhWS//NExCsSCSqQAM6OcB+5tRwy0TPQlnattpztKGtOIq7kYrRoxguLmf+K1bMCO+b1c0NTsdxiymygJG0NI+xx1IcEh59Sg3TxIy47CCRAXlW3EMmCjOLiy+yUFWIpR7Dq//NExDUSkSKEANaKcJdP75Urmc44STo1bxUGf//////9utUZDseZSepnLl8mC5kyqRkBARJ15EoJ8YoLu5MioUPKYmFG4D+CAFFZoKRxbGzadJ87yPQx2d2u+bf3/2pN//NExD0SeSJ4ANZEcArFI9gEQOB1Hr0Xf9QwAZ0WVHvWKiaWEGRJNEhkAYUI3OGgKQRibG0hK6amBWj6B8nYUA8yxPJIkaD5bU3Dr/////1Y6L+9EKT//toKW73IvopO//NExEYRIX50ANPElADAQVSneXu825ZgiLtAXKXtU92FmWHM5jmLqLsEJUwDiT1IMSdPF/NGxZTwkcC/UFvdVrb22t7o6WGXeqHTiiTywqVIs7l1AsCK5weOyFtm4ojI//NExFQR2PJkANPMcJxrFURIUAW5bOlTP2WcvpgFqDlGUTcfqmcU9Di+14sKS8V9Dewoz28URToUPHSISBL9QFEg/hICkTsYBUoYI4TRQlTHUot7UyiuFTKLYoZhUWFT//NExF8SKL40AMPeTFK2a8pRZ9KKuzUv9qqkwqHQkFQ2VdEQiqHhsNdZaJc7ywFdkkliPlf1nTt5ZP/7MjUVBkJBATiQTigjOojxt0kI8EAYE6CdTUTaac3Dc1Sdw9O0//NExGkRmNngAHpGcKQYMPQvNy4h//6nVwfiwaNPQaBNlZszmfR/Qb/pMdJr+aMnPzJpDEA4FBSTigJ2N1zaBdJTtisM5yBAsJjL6AIFw5WQMuXqFjIRxzdD6QiQCyBY//NExHUAAANIAAAAAAYRAhALBsIrIBYm4BkAI1SRX//+hRXi3mqBoBShtmRAQNBQSApIGSLosgCipJ6W+MZ6jQqAiIwkP1ZUiCxIKAUKgIWARIKmQmAiQVAREBEgKwKm//NExMgR8QWAAEpMcFo9H/+tISIqTEFNRTMuMTAwqqqqqqqqqqqqqqqqqqqqqqqqqqqqqqqqqqqqqqqqqqqqqqqqqqqqqqqqqqqqqqqqqqqqqqqqqqqqqqqqTEFNRTMu//NExNMQYGH0AGJGKDEwMKqqqqqqqqqqqqqqqqqqqqqqqqqqqqqqqqqqqqqqqqqqqqqqqqqqqqqqqqqqqqqqqqqqqqqqqqqqqqqqqqqqqqqqqqqqqqqqqqqqTEFNRTMu//NExOQRWDnMAHpGBDEwMKqqqqqqqqqqqqqqqqqqqqqqqqqqqqqqqqqqqqqqqqqqqqqqqqqqqqqqqqqqqqqqqqqqqqqqqqqqqqqqqqqqqqqqqqqqqqqqqqqqTEFNRTMu//NExKwAAANIAAAAADEwMKqqqqqqqqqqqqqqqqqqqqqqqqqqqqqqqqqqqqqqqqqqqqqqqqqqqqqqqqqqqqqqqqqqqqqqqqqqqqqqqqqqqqqqqqqqqqqqqqqqTEFNRTMu//NExKwAAANIAAAAADEwMKqqqqqqqqqqqqqqqqqqqqqqqqqqqqqqqqqqqqqqqqqqqqqqqqqqqqqqqqqqqqqqqqqqqqqqqqqqqqqqqqqqqqqqqqqqqqqqqqqqqqqqqqqq//NExKwAAANIAAAAAKqqqqqqqqqqqqqqqqqqqqqqqqqqqqqqqqqqqqqqqqqqqqqqqqqqqqqqqqqqqqqqqqqqqqqqqqqqqqqqqqqqqqqqqqqqqqqqqqqqqqqqqqqqqqqq//NExKwAAANIAAAAAKqqqqqqqqqqqqqqqqqqqqqqqqqqqqqqqqqqqqqqqqqqqqqqqqqqqqqqqqqqqqqqqqqqqqqqqqqqqqqqqqqqqqqqqqqqqqqqqqqqqqqqqqqqqqqq\" type=\"audio/x-wav\" />\n",
              "                    Your browser does not support the audio element.\n",
              "                </audio>\n",
              "              "
            ]
          },
          "metadata": {}
        },
        {
          "output_type": "display_data",
          "data": {
            "text/plain": [
              "<IPython.lib.display.Audio object>"
            ],
            "text/html": [
              "\n",
              "                <audio  controls=\"controls\" autoplay=\"autoplay\">\n",
              "                    <source src=\"data:audio/x-wav;base64,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\" type=\"audio/x-wav\" />\n",
              "                    Your browser does not support the audio element.\n",
              "                </audio>\n",
              "              "
            ]
          },
          "metadata": {}
        }
      ]
    },
    {
      "cell_type": "markdown",
      "source": [
        "# **Guess the Sequence**\n",
        "Now finally comes the guessing part.The user needs to enter the n(length of sequence) digit number whose each digit corresponds to the random sound played.Now if the number matches the sequence in which the sounds were played the user won otherwise would lose the game."
      ],
      "metadata": {
        "id": "DbZ6ENfw3fxS"
      }
    },
    {
      "cell_type": "code",
      "source": [
        "print(\"enter the coorect sequence\")\n",
        "guess=int(input())\n",
        "if guess==number:\n",
        "  print(\"YAY! you Won\")\n",
        "else:\n",
        " print(\"Oops, You lose. Better luck next time\") \n"
      ],
      "metadata": {
        "colab": {
          "base_uri": "https://localhost:8080/"
        },
        "id": "LZt7YSMX6u_q",
        "outputId": "db9ace93-fd29-4002-a52d-53c0638fab01"
      },
      "execution_count": null,
      "outputs": [
        {
          "output_type": "stream",
          "name": "stdout",
          "text": [
            "enter the coorect sequence\n",
            "346448247\n",
            "Oops, You lose. Better luck next time\n"
          ]
        }
      ]
    }
  ]
}